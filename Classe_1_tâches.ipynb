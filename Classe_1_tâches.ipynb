{
 "cells": [
  {
   "cell_type": "code",
   "execution_count": 4,
   "metadata": {},
   "outputs": [],
   "source": [
    "import numpy as np\n",
    "import numpy.linalg as linalg"
   ]
  },
  {
   "cell_type": "code",
   "execution_count": 5,
   "metadata": {},
   "outputs": [
    {
     "name": "stdout",
     "output_type": "stream",
     "text": [
      "La solución del sistema es:\n",
      " x = [-1.45652174],\n",
      " y = [1.82608696],\n",
      " z = [-0.93478261]\n"
     ]
    }
   ],
   "source": [
    "# Definir el sistema lineal\n",
    "#   3x + 4y +  z = 2,\n",
    "#    x + 2y - 3z = 5,\n",
    "#  -2x +  y + 4z = 1\n",
    "\n",
    "# Matriz A de coeficientes de sistema lineal\n",
    "A = np.array([[ 3, 4, 1],\n",
    "              [ 1, 2,-3],\n",
    "              [-2, 1, 4]])\n",
    "\n",
    "# Vector b\n",
    "b = np.array([[2],\n",
    "              [5],\n",
    "              [1]])\n",
    "\n",
    "# Resolver el sistema de ecuaciones lineales\n",
    "solucion = linalg.solve(A, b)\n",
    "print(f\"La solución del sistema es:\\n x = {solucion[0]},\\n y = {solucion[1]},\\n z = {solucion[2]}\")"
   ]
  }
 ],
 "metadata": {
  "kernelspec": {
   "display_name": "Python 3",
   "language": "python",
   "name": "python3"
  },
  "language_info": {
   "codemirror_mode": {
    "name": "ipython",
    "version": 3
   },
   "file_extension": ".py",
   "mimetype": "text/x-python",
   "name": "python",
   "nbconvert_exporter": "python",
   "pygments_lexer": "ipython3",
   "version": "3.10.6"
  }
 },
 "nbformat": 4,
 "nbformat_minor": 2
}
